{
 "cells": [
  {
   "cell_type": "code",
   "execution_count": null,
   "metadata": {},
   "outputs": [],
   "source": [
    "import pandas as pd\n",
    "import numpy as np\n",
    "import matplotlib.pyplot as plt\n",
    "import seaborn as sns\n",
    "import folium as folium\n",
    "import geopandas as gpd\n",
    "import json\n",
    "import os\n",
    "import sys\n",
    "import branca.colormap as cm\n",
    "\n",
    "%load_ext lab_black"
   ]
  },
  {
   "cell_type": "code",
   "execution_count": null,
   "metadata": {},
   "outputs": [],
   "source": [
    "pop_prov_df = pd.read_excel(\"./data/pobmun/pobmun22.xlsx\", header=1)"
   ]
  },
  {
   "cell_type": "code",
   "execution_count": null,
   "metadata": {},
   "outputs": [],
   "source": [
    "pop_prov_df"
   ]
  },
  {
   "cell_type": "code",
   "execution_count": null,
   "metadata": {},
   "outputs": [],
   "source": [
    "provincias_geojson = \"./data/georef-spain-provincia@public.geojson\""
   ]
  },
  {
   "cell_type": "code",
   "execution_count": null,
   "metadata": {},
   "outputs": [],
   "source": [
    "with open(\"./data/georef-spain-provincia@public.geojson\", \"r\") as f:\n",
    "    province_data = json.load(f)"
   ]
  },
  {
   "attachments": {},
   "cell_type": "markdown",
   "metadata": {},
   "source": [
    "## Renaming so that Geojson and DF match names"
   ]
  },
  {
   "cell_type": "code",
   "execution_count": null,
   "metadata": {},
   "outputs": [],
   "source": [
    "prov_names = []\n",
    "for i in range(len(province_data[\"features\"])):\n",
    "    prov_names.append(province_data[\"features\"][i][\"properties\"][\"prov_name\"])"
   ]
  },
  {
   "cell_type": "code",
   "execution_count": null,
   "metadata": {},
   "outputs": [],
   "source": [
    "province_rename_dict = {\n",
    "    \"Alicante/Alacant\": \"Alacant\",\n",
    "    \"Araba/Álava\": \"Araba\",\n",
    "    \"Balears, Illes\": \"Illes Balears\",\n",
    "    \"Castellón/Castelló\": \"Castelló\",\n",
    "    \"Coruña, A\": \"A Coruña\",\n",
    "    \"Palmas, Las\": \"Las Palmas\",\n",
    "    \"Rioja, La\": \"La Rioja\",\n",
    "    \"Valencia/València\": \"València\",\n",
    "}"
   ]
  },
  {
   "cell_type": "code",
   "execution_count": null,
   "metadata": {},
   "outputs": [],
   "source": [
    "# Replace with my province dict\n",
    "pop_prov_df[\"PROVINCIA\"] = pop_prov_df[\"PROVINCIA\"].replace(province_rename_dict)"
   ]
  },
  {
   "cell_type": "code",
   "execution_count": null,
   "metadata": {},
   "outputs": [],
   "source": [
    "# Check if all provinces are in the geojson\n",
    "for i in pop_prov_df[\"PROVINCIA\"].unique():\n",
    "    if i not in prov_names:\n",
    "        print(i)"
   ]
  },
  {
   "cell_type": "code",
   "execution_count": null,
   "metadata": {},
   "outputs": [],
   "source": [
    "male_pop = pop_prov_df.groupby(\"PROVINCIA\")[\"HOMBRES\"].sum()\n",
    "female_pop = pop_prov_df.groupby(\"PROVINCIA\")[\"MUJERES\"].sum()\n",
    "\n",
    "pop_df = pd.DataFrame({\"men\": male_pop, \"women\": female_pop})\n",
    "pop_df = pop_df.sort_values(by=\"men\", ascending=False)"
   ]
  },
  {
   "cell_type": "code",
   "execution_count": null,
   "metadata": {},
   "outputs": [],
   "source": [
    "plt.figure(figsize=(10, 10))\n",
    "pop_df.plot(kind=\"barh\", figsize=(10, 10), width=0.8, cmap=\"tab20c\")\n",
    "plt.title(\"Population by province\")\n",
    "plt.xlabel(\"Population\")\n",
    "plt.ylabel(\"Province\")\n",
    "plt.show()"
   ]
  },
  {
   "cell_type": "code",
   "execution_count": null,
   "metadata": {},
   "outputs": [],
   "source": [
    "pop_df[\"total\"] = pop_df[\"men\"] + pop_df[\"women\"]"
   ]
  },
  {
   "cell_type": "code",
   "execution_count": null,
   "metadata": {},
   "outputs": [],
   "source": [
    "pop_df.reset_index(inplace=True)"
   ]
  },
  {
   "cell_type": "code",
   "execution_count": null,
   "metadata": {},
   "outputs": [],
   "source": [
    "# Add 'total' to GeoJSON properties\n",
    "for feature in province_data[\"features\"]:\n",
    "    prov_name = feature[\"properties\"][\"prov_name\"]\n",
    "    if prov_name == \"Territorio no asociado a ninguna provincia\":\n",
    "        # make it 0\n",
    "        feature[\"properties\"][\"total\"] = 0\n",
    "        continue\n",
    "    total_population = pop_df.loc[pop_df[\"PROVINCIA\"] == prov_name, \"total\"].values[0]\n",
    "    feature[\"properties\"][\"total\"] = int(total_population)"
   ]
  },
  {
   "cell_type": "code",
   "execution_count": null,
   "metadata": {},
   "outputs": [],
   "source": [
    "# cm.linear"
   ]
  },
  {
   "cell_type": "code",
   "execution_count": null,
   "metadata": {},
   "outputs": [],
   "source": [
    "# Get min and max population\n",
    "min_pop = pop_df[\"total\"].min()\n",
    "max_pop = pop_df[\"total\"].max()\n",
    "\n",
    "# Create a colormap\n",
    "colormap = cm.linear.PuBuGn_09.scale(min_pop, max_pop)"
   ]
  },
  {
   "cell_type": "code",
   "execution_count": null,
   "metadata": {},
   "outputs": [],
   "source": [
    "f = folium.Figure(width=1200, height=1000)\n",
    "\n",
    "m = folium.Map(\n",
    "    location=[40, -4],\n",
    "    zoom_start=7,\n",
    "    width=1200,\n",
    "    height=1000,\n",
    "    tiles=\"CartoDB positron\",\n",
    "    control_scale=True,\n",
    "    no_touch=True,\n",
    ").add_to(f)\n",
    "\n",
    "folium.Choropleth(\n",
    "    # geo_data=provincias_geojson,\n",
    "    geo_data=province_data,\n",
    "    name=\"choropleth\",\n",
    "    data=pop_df,\n",
    "    columns=[\"PROVINCIA\", \"total\"],\n",
    "    key_on=\"feature.properties.prov_name\",  # This is the key to match the geojson with the dataframe\n",
    "    fill_color=\"PuBuGn\",\n",
    "    fill_opacity=0.7,\n",
    "    line_opacity=0.2,\n",
    "    legend_name=\"Population\",\n",
    ").add_to(m)\n",
    "\n",
    "\n",
    "# add labels\n",
    "style_function = lambda feature: {\n",
    "    \"fillColor\": colormap(feature[\"properties\"][\"total\"]),\n",
    "    \"color\": \"#000000\",\n",
    "    \"fillOpacity\": 0.5,\n",
    "    \"weight\": 0.1,\n",
    "}\n",
    "\n",
    "highlight_function = lambda x: {\n",
    "    \"fillColor\": \"#000000\",\n",
    "    \"color\": \"#000000\",\n",
    "    \"fillOpacity\": 0.50,\n",
    "    \"weight\": 0.1,\n",
    "}\n",
    "\n",
    "tooltip = folium.features.GeoJsonTooltip(\n",
    "    fields=[\"prov_name\", \"total\"],\n",
    "    aliases=[\"Province\", \"Population\"],\n",
    "    localize=True,\n",
    "    sticky=True,\n",
    "    labels=True,\n",
    "    style=\"background-color: white;\",\n",
    ")\n",
    "\n",
    "folium.GeoJson(\n",
    "    province_data,\n",
    "    style_function=style_function,\n",
    "    highlight_function=highlight_function,\n",
    "    tooltip=tooltip,\n",
    "    name=\"Provinces\",\n",
    ").add_to(m)\n",
    "\n",
    "folium.LayerControl().add_to(m)"
   ]
  },
  {
   "cell_type": "code",
   "execution_count": null,
   "metadata": {},
   "outputs": [],
   "source": [
    "m"
   ]
  },
  {
   "cell_type": "code",
   "execution_count": null,
   "metadata": {},
   "outputs": [],
   "source": [
    "# Do it but with log scale\n",
    "\n",
    "min_log_pop = pop_prov_df[\"log_total\"].min()\n",
    "max_log_pop = pop_prov_df[\"log_total\"].max()\n",
    "\n",
    "# Create a colormap\n",
    "colormap = cm.linear.PuBuGn_09.scale(min_log_pop, max_log_pop)"
   ]
  },
  {
   "cell_type": "code",
   "execution_count": null,
   "metadata": {},
   "outputs": [],
   "source": [
    "f = folium.Figure(width=1200, height=1000)\n",
    "\n",
    "m = folium.Map(\n",
    "    location=[40, -4],\n",
    "    zoom_start=7,\n",
    "    width=1200,\n",
    "    height=1000,\n",
    "    tiles=\"CartoDB positron\",\n",
    "    control_scale=True,\n",
    "    no_touch=True,\n",
    ").add_to(f)\n",
    "\n",
    "folium.Choropleth(\n",
    "    # geo_data=provincias_geojson,\n",
    "    geo_data=province_data,\n",
    "    name=\"choropleth\",\n",
    "    data=pop_df,\n",
    "    columns=[\"PROVINCIA\", \"total\"],\n",
    "    key_on=\"feature.properties.prov_name\",  # This is the key to match the geojson with the dataframe\n",
    "    fill_color=\"PuBuGn\",\n",
    "    fill_opacity=0.7,\n",
    "    line_opacity=0.2,\n",
    "    legend_name=\"Population\",\n",
    ").add_to(m)\n",
    "\n",
    "\n",
    "# add labels\n",
    "style_function = lambda feature: {\n",
    "    \"fillColor\": colormap(feature[\"properties\"][\"total\"]),\n",
    "    \"color\": \"#000000\",\n",
    "    \"fillOpacity\": 0.5,\n",
    "    \"weight\": 0.1,\n",
    "}\n",
    "\n",
    "highlight_function = lambda x: {\n",
    "    \"fillColor\": \"#000000\",\n",
    "    \"color\": \"#000000\",\n",
    "    \"fillOpacity\": 0.50,\n",
    "    \"weight\": 0.1,\n",
    "}\n",
    "\n",
    "tooltip = folium.features.GeoJsonTooltip(\n",
    "    fields=[\"prov_name\", \"total\"],\n",
    "    aliases=[\"Province\", \"Population\"],\n",
    "    localize=True,\n",
    "    sticky=True,\n",
    "    labels=True,\n",
    "    style=\"background-color: white;\",\n",
    ")\n",
    "\n",
    "folium.GeoJson(\n",
    "    province_data,\n",
    "    style_function=style_function,\n",
    "    highlight_function=highlight_function,\n",
    "    tooltip=tooltip,\n",
    "    name=\"Provinces\",\n",
    ").add_to(m)\n",
    "\n",
    "folium.LayerControl().add_to(m)"
   ]
  },
  {
   "cell_type": "code",
   "execution_count": null,
   "metadata": {},
   "outputs": [],
   "source": [
    "pop_df = pop_df.assign(m_w_ratio=pop_df[\"men\"] / pop_df[\"women\"])\n",
    "pop_df.head()"
   ]
  },
  {
   "cell_type": "code",
   "execution_count": null,
   "metadata": {},
   "outputs": [],
   "source": [
    "# Add 'm_w_ratio' to GeoJSON properties\n",
    "for feature in province_data[\"features\"]:\n",
    "    prov_name = feature[\"properties\"][\"prov_name\"]\n",
    "    if prov_name == \"Territorio no asociado a ninguna provincia\":\n",
    "        # make it 0\n",
    "        feature[\"properties\"][\"m_w_ratio\"] = 1\n",
    "        continue\n",
    "    m_w_ratio = pop_df.loc[pop_df[\"PROVINCIA\"] == prov_name, \"m_w_ratio\"].values[0]\n",
    "    feature[\"properties\"][\"m_w_ratio\"] = float(m_w_ratio)"
   ]
  },
  {
   "cell_type": "code",
   "execution_count": null,
   "metadata": {},
   "outputs": [],
   "source": [
    "# Get min and max population\n",
    "min_ratio = pop_df[\"m_w_ratio\"].min()\n",
    "max_ratio = pop_df[\"m_w_ratio\"].max()\n",
    "\n",
    "# Create a colormap\n",
    "colormap = cm.linear.PuBuGn_09.scale(min_ratio, max_ratio)\n",
    "# colormap = cm.linear.YlGn_09.scale(min_pop, max_pop)"
   ]
  },
  {
   "cell_type": "code",
   "execution_count": null,
   "metadata": {},
   "outputs": [],
   "source": [
    "f2 = folium.Figure(width=1200, height=1000)\n",
    "\n",
    "m2 = folium.Map(\n",
    "    location=[40, -4],\n",
    "    zoom_start=7,\n",
    "    width=1200,\n",
    "    height=1000,\n",
    "    tiles=\"CartoDB positron\",\n",
    "    control_scale=True,\n",
    "    no_touch=True,\n",
    ").add_to(f2)\n",
    "folium.Choropleth(\n",
    "    # geo_data=provincias_geojson,\n",
    "    geo_data=province_data,\n",
    "    name=\"choropleth\",\n",
    "    data=pop_df,\n",
    "    columns=[\"PROVINCIA\", \"m_w_ratio\"],\n",
    "    key_on=\"feature.properties.prov_name\",  # This is the key to match the geojson with the dataframe\n",
    "    fill_color=\"PuBuGn\",\n",
    "    fill_opacity=0.7,\n",
    "    line_opacity=0.2,\n",
    "    legend_name=\"men/women ratio\",\n",
    ").add_to(m2)\n",
    "\n",
    "# add labels\n",
    "# Create style function using the color function\n",
    "style_function = lambda feature: {\n",
    "    \"fillColor\": colormap(feature[\"properties\"][\"m_w_ratio\"]),\n",
    "    \"color\": \"#000000\",\n",
    "    \"fillOpacity\": 0,\n",
    "    \"weight\": 0.1,\n",
    "}\n",
    "\n",
    "highlight_function = lambda x: {\n",
    "    \"fillColor\": \"#000000\",\n",
    "    \"color\": \"#000000\",\n",
    "    \"fillOpacity\": 0.5,\n",
    "    \"weight\": 0.1,\n",
    "}\n",
    "\n",
    "tooltip = folium.features.GeoJsonTooltip(\n",
    "    fields=[\"prov_name\", \"m_w_ratio\"],\n",
    "    aliases=[\"Province\", \"Men per Woman Ratio\"],\n",
    "    localize=True,\n",
    "    sticky=True,\n",
    "    labels=True,\n",
    "    style=\"background-color: white;\",\n",
    ")\n",
    "\n",
    "folium.GeoJson(\n",
    "    province_data,\n",
    "    style_function=style_function,\n",
    "    highlight_function=highlight_function,\n",
    "    tooltip=tooltip,\n",
    "    name=\"m_w_ratio\",\n",
    ").add_to(m2)\n",
    "\n",
    "folium.LayerControl().add_to(m2)"
   ]
  },
  {
   "cell_type": "code",
   "execution_count": null,
   "metadata": {},
   "outputs": [],
   "source": [
    "m2"
   ]
  },
  {
   "cell_type": "code",
   "execution_count": null,
   "metadata": {},
   "outputs": [],
   "source": [
    "# Get min, max, and midpoint\n",
    "min_ratio = pop_df[\"m_w_ratio\"].min()\n",
    "max_ratio = pop_df[\"m_w_ratio\"].max()\n",
    "mid_ratio = 1\n",
    "\n",
    "# Create two colormaps\n",
    "colormap1 = cm.linear.Blues_09.scale(min_ratio, mid_ratio)  # for values < 1\n",
    "colormap2 = cm.linear.Greens_09.scale(mid_ratio, max_ratio)  # for values >= 1\n",
    "\n",
    "\n",
    "# Function for getting colors\n",
    "def get_color(feature):\n",
    "    m_w_ratio = feature[\"properties\"][\"m_w_ratio\"]\n",
    "    if m_w_ratio < 1:\n",
    "        return colormap1(m_w_ratio)\n",
    "    else:\n",
    "        return colormap2(m_w_ratio)"
   ]
  },
  {
   "cell_type": "code",
   "execution_count": null,
   "metadata": {},
   "outputs": [],
   "source": [
    "f2 = folium.Figure(width=1200, height=1000)\n",
    "\n",
    "m2 = folium.Map(\n",
    "    location=[40, -4],\n",
    "    zoom_start=7,\n",
    "    width=1200,\n",
    "    height=1000,\n",
    "    tiles=\"CartoDB positron\",\n",
    "    control_scale=True,\n",
    "    no_touch=True,\n",
    ").add_to(f2)\n",
    "\n",
    "# Get values below and above 1\n",
    "pop_df_below_1 = pop_df[pop_df[\"m_w_ratio\"] < 1]\n",
    "pop_df_above_1 = pop_df[pop_df[\"m_w_ratio\"] >= 1]\n",
    "\n",
    "# Create two Choropleth maps\n",
    "choropleth_below_1 = folium.Choropleth(\n",
    "    geo_data=province_data,\n",
    "    name=\"choropleth_below_1\",\n",
    "    data=pop_df_below_1,\n",
    "    columns=[\"PROVINCIA\", \"m_w_ratio\"],\n",
    "    key_on=\"feature.properties.prov_name\",\n",
    "    fill_color=\"Blues\",\n",
    "    fill_opacity=0.7,\n",
    "    line_opacity=0.2,\n",
    "    legend_name=\"men/women ratio\",\n",
    ").add_to(m2)\n",
    "\n",
    "choropleth_above_1 = folium.Choropleth(\n",
    "    geo_data=province_data,\n",
    "    name=\"choropleth_above_1\",\n",
    "    data=pop_df_above_1,\n",
    "    columns=[\"PROVINCIA\", \"m_w_ratio\"],\n",
    "    key_on=\"feature.properties.prov_name\",\n",
    "    fill_color=\"Greens\",\n",
    "    fill_opacity=0.7,\n",
    "    line_opacity=0.2,\n",
    "    legend_name=\"men/women ratio above 1\",\n",
    ").add_to(m2)\n",
    "# add labels\n",
    "# Create style function using the color function\n",
    "style_function = lambda feature: {\n",
    "    \"fillColor\": get_color(feature),\n",
    "    \"color\": \"#000000\",\n",
    "    \"fillOpacity\": 0.7,\n",
    "    \"weight\": 0.1,\n",
    "}\n",
    "\n",
    "highlight_function = lambda x: {\n",
    "    \"fillColor\": \"#000000\",\n",
    "    \"color\": \"#000000\",\n",
    "    \"fillOpacity\": 0.5,\n",
    "    \"weight\": 0.1,\n",
    "}\n",
    "\n",
    "tooltip = folium.features.GeoJsonTooltip(\n",
    "    fields=[\"prov_name\", \"m_w_ratio\"],\n",
    "    aliases=[\"Province\", \"Men/Women Ratio\"],\n",
    "    localize=True,\n",
    "    sticky=True,\n",
    "    labels=True,\n",
    "    style=\"background-color: white;\",\n",
    ")\n",
    "\n",
    "folium.GeoJson(\n",
    "    province_data,\n",
    "    style_function=style_function,\n",
    "    highlight_function=highlight_function,\n",
    "    tooltip=tooltip,\n",
    "    name=\"m_w_ratio\",\n",
    ").add_to(m2)\n",
    "\n",
    "folium.LayerControl().add_to(m2)"
   ]
  },
  {
   "cell_type": "code",
   "execution_count": null,
   "metadata": {},
   "outputs": [],
   "source": [
    "m2"
   ]
  },
  {
   "cell_type": "code",
   "execution_count": null,
   "metadata": {},
   "outputs": [],
   "source": [
    "# Provinces with most women:\n",
    "print(\"Provinces with most women:\")\n",
    "print(\n",
    "    pop_df[[\"PROVINCIA\", \"m_w_ratio\"]]\n",
    "    .sort_values(by=\"m_w_ratio\")\n",
    "    .head(10)\n",
    "    .to_markdown()\n",
    ")\n",
    "pop_df[[\"PROVINCIA\", \"m_w_ratio\"]].sort_values(by=\"m_w_ratio\").head(10).plot(\n",
    "    kind=\"bar\", x=\"PROVINCIA\", ylim=[0.9, 0.98], cmap=\"tab20c\"\n",
    ")\n",
    "ax = plt.gca()\n",
    "ax.spines[\"top\"].set_visible(False)\n",
    "ax.spines[\"right\"].set_visible(False)\n",
    "plt.title(\"Provinces with most men\")\n",
    "plt.xlabel(\"Province\")\n",
    "plt.ylabel(\"Man/Woman Ratio\")\n",
    "# no legend\n",
    "plt.legend().remove()\n",
    "plt.show()"
   ]
  },
  {
   "cell_type": "code",
   "execution_count": null,
   "metadata": {},
   "outputs": [],
   "source": [
    "print(\"Provinces with most men:\")\n",
    "print(\n",
    "    pop_df[[\"PROVINCIA\", \"m_w_ratio\"]]\n",
    "    .sort_values(by=\"m_w_ratio\", ascending=False)\n",
    "    .head(10)\n",
    "    .to_markdown()\n",
    ")\n",
    "pop_df[[\"PROVINCIA\", \"m_w_ratio\"]].sort_values(by=\"m_w_ratio\", ascending=False).head(\n",
    "    10\n",
    ").plot(kind=\"bar\", x=\"PROVINCIA\", ylim=[0.98, 1.06], cmap=\"tab20c\")\n",
    "ax = plt.gca()\n",
    "ax.spines[\"top\"].set_visible(False)\n",
    "ax.spines[\"right\"].set_visible(False)\n",
    "plt.title(\"Provinces with most men\")\n",
    "plt.xlabel(\"Province\")\n",
    "plt.ylabel(\"Man/Woman Ratio\")\n",
    "# no legend\n",
    "plt.legend().remove()\n",
    "plt.show()"
   ]
  },
  {
   "cell_type": "code",
   "execution_count": null,
   "metadata": {},
   "outputs": [],
   "source": [
    "# Plot a bar chart that is the nr of provinces with m_w_ratio larger than 1 vs smaller than 1\n",
    "pop_df[\"m_w_ratio\"].apply(lambda x: 1 if x > 1 else 0).value_counts().plot(\n",
    "    kind=\"bar\", x=\"m_w_ratio\"\n",
    ")\n",
    "plt.title(\"Count of provinces with Man/Woman > 1 vs < 1\")\n",
    "plt.xticks([0, 1], [\"More women\", \" More men\"], rotation=0)\n",
    "ax = plt.gca()\n",
    "ax.spines[\"top\"].set_visible(False)\n",
    "ax.spines[\"right\"].set_visible(False)\n",
    "plt.xlabel(\"Amount of men per woman\")\n",
    "plt.ylabel(\"count\")\n",
    "plt.bar_label(plt.gca().containers[0], fmt=\"%d\")\n",
    "plt.show()"
   ]
  },
  {
   "cell_type": "code",
   "execution_count": null,
   "metadata": {},
   "outputs": [],
   "source": [
    "# Bar plot of absolut values of men vs women\n",
    "pop_df[[\"men\", \"women\"]].sum().div(1000000).plot(kind=\"bar\")\n",
    "plt.title(\"Total population in Spain\")\n",
    "plt.xticks(rotation=0)\n",
    "ax = plt.gca()\n",
    "ax.spines[\"top\"].set_visible(False)\n",
    "ax.spines[\"right\"].set_visible(False)\n",
    "plt.ylabel(\"Population (millions)\")\n",
    "plt.bar_label(ax.containers[0], fmt=\"%.1f\")\n",
    "plt.show()"
   ]
  },
  {
   "attachments": {},
   "cell_type": "markdown",
   "metadata": {},
   "source": [
    "## Municipalities"
   ]
  },
  {
   "cell_type": "code",
   "execution_count": null,
   "metadata": {},
   "outputs": [],
   "source": [
    "pop_prov_df"
   ]
  },
  {
   "cell_type": "code",
   "execution_count": null,
   "metadata": {},
   "outputs": [],
   "source": [
    "pop_prov_df = pop_prov_df.assign(total=pop_prov_df[\"HOMBRES\"] + pop_prov_df[\"MUJERES\"])"
   ]
  },
  {
   "cell_type": "code",
   "execution_count": null,
   "metadata": {},
   "outputs": [],
   "source": [
    "with open(\"./data/georef-spain-municipio@public.geojson\", \"r\") as f:\n",
    "    municipality_data = json.load(f)"
   ]
  },
  {
   "cell_type": "code",
   "execution_count": null,
   "metadata": {},
   "outputs": [],
   "source": [
    "mun_names = []\n",
    "for i in range(len(municipality_data[\"features\"])):\n",
    "    mun_names.append(municipality_data[\"features\"][i][\"properties\"][\"mun_name\"])\n",
    "\n",
    "mun_codes = []\n",
    "for i in range(len(municipality_data[\"features\"])):\n",
    "    mun_codes.append(municipality_data[\"features\"][i][\"properties\"][\"mun_code\"])"
   ]
  },
  {
   "cell_type": "code",
   "execution_count": null,
   "metadata": {},
   "outputs": [],
   "source": [
    "# Create a new column called mun_code which is the CPRO + CMUN as strings. CPRO should be 2 digits and CMUN should be 3 digits\n",
    "pop_prov_df[\"mun_code\"] = pop_prov_df[\"CPRO\"].astype(str).str.zfill(2) + pop_prov_df[\n",
    "    \"CMUN\"\n",
    "].astype(str).str.zfill(3)"
   ]
  },
  {
   "cell_type": "code",
   "execution_count": null,
   "metadata": {},
   "outputs": [],
   "source": [
    "missing_mun_codes = []\n",
    "\n",
    "for code in mun_codes:\n",
    "    if code not in pop_prov_df[\"mun_code\"].unique():\n",
    "        missing_mun_codes.append(code)\n",
    "\n",
    "# Remove the not matching municipalities from the municipality data\n",
    "municipality_data[\"features\"] = [\n",
    "    feature\n",
    "    for feature in municipality_data[\"features\"]\n",
    "    if feature[\"properties\"][\"mun_code\"] not in missing_mun_codes\n",
    "]"
   ]
  },
  {
   "cell_type": "code",
   "execution_count": null,
   "metadata": {},
   "outputs": [],
   "source": [
    "# Use logarithmic scale for the total population to enhance the differences\n",
    "pop_prov_df[\"log_total\"] = np.log(pop_prov_df[\"total\"])"
   ]
  },
  {
   "cell_type": "code",
   "execution_count": null,
   "metadata": {},
   "outputs": [],
   "source": [
    "# Add 'total' and \"log_total\" to GeoJSON properties\n",
    "for feature in municipality_data[\"features\"]:\n",
    "    mun_code = feature[\"properties\"][\"mun_code\"]\n",
    "    try:\n",
    "        total_population = pop_prov_df.loc[\n",
    "            pop_prov_df[\"mun_code\"] == mun_code, \"total\"\n",
    "        ].values[0]\n",
    "        log_total_population = pop_prov_df.loc[\n",
    "            pop_prov_df[\"mun_code\"] == mun_code, \"log_total\"\n",
    "        ].values[0]\n",
    "\n",
    "        feature[\"properties\"][\"total\"] = int(total_population)\n",
    "        feature[\"properties\"][\"log_total\"] = float(log_total_population)\n",
    "    except:\n",
    "        print(f\"error on {mun_code}\")"
   ]
  },
  {
   "attachments": {},
   "cell_type": "markdown",
   "metadata": {},
   "source": [
    "## Plot total pop by municipality"
   ]
  },
  {
   "cell_type": "code",
   "execution_count": null,
   "metadata": {},
   "outputs": [],
   "source": [
    "# Get min and max population use logarithmic for skewness\n",
    "\n",
    "min_log_pop = pop_prov_df[\"log_total\"].min()\n",
    "max_log_pop = pop_prov_df[\"log_total\"].max()\n",
    "\n",
    "# Create a colormap\n",
    "colormap = cm.linear.PuBuGn_09.scale(min_log_pop, max_log_pop)"
   ]
  },
  {
   "cell_type": "code",
   "execution_count": null,
   "metadata": {},
   "outputs": [],
   "source": [
    "f = folium.Figure(width=1200, height=1000)\n",
    "\n",
    "m = folium.Map(\n",
    "    location=[40, -4],\n",
    "    zoom_start=7,\n",
    "    width=1200,\n",
    "    height=1000,\n",
    "    tiles=\"CartoDB positron\",\n",
    "    control_scale=True,\n",
    "    no_touch=True,\n",
    ").add_to(f)\n",
    "\n",
    "folium.Choropleth(\n",
    "    geo_data=municipality_data,\n",
    "    name=\"choropleth\",\n",
    "    data=pop_prov_df,\n",
    "    columns=[\"mun_code\", \"log_total\"],  # use the log scale column here\n",
    "    key_on=\"feature.properties.mun_code\",\n",
    "    fill_color=\"PuBuGn\",\n",
    "    fill_opacity=0.7,\n",
    "    line_opacity=0.2,\n",
    "    legend_name=\"Log Population\",  # note the legend name change\n",
    ").add_to(m)\n",
    "\n",
    "\n",
    "# add labels\n",
    "style_function = lambda feature: {\n",
    "    \"fillColor\": colormap(np.log(feature[\"properties\"][\"total\"])),  # apply log here too\n",
    "    \"color\": \"#000000\",\n",
    "    \"fillOpacity\": 0.5,\n",
    "    \"weight\": 0.1,\n",
    "}\n",
    "\n",
    "highlight_function = lambda x: {\n",
    "    \"fillColor\": \"#000000\",\n",
    "    \"color\": \"#000000\",\n",
    "    \"fillOpacity\": 0.50,\n",
    "    \"weight\": 0.1,\n",
    "}\n",
    "\n",
    "tooltip = folium.features.GeoJsonTooltip(\n",
    "    fields=[\"mun_name\", \"log_total\"],  # and here\n",
    "    aliases=[\"Municipality\", \"Log Population\"],  # and here\n",
    "    localize=True,\n",
    "    sticky=True,\n",
    "    labels=True,\n",
    "    style=\"background-color: white;\",\n",
    ")\n",
    "\n",
    "\n",
    "folium.GeoJson(\n",
    "    municipality_data,\n",
    "    style_function=style_function,\n",
    "    highlight_function=highlight_function,\n",
    "    tooltip=tooltip,\n",
    "    name=\"Municipalities\",\n",
    ").add_to(m)\n",
    "\n",
    "folium.LayerControl().add_to(m)"
   ]
  },
  {
   "cell_type": "code",
   "execution_count": null,
   "metadata": {},
   "outputs": [],
   "source": [
    "# m"
   ]
  }
 ],
 "metadata": {
  "kernelspec": {
   "display_name": "Python 3",
   "language": "python",
   "name": "python3"
  },
  "language_info": {
   "codemirror_mode": {
    "name": "ipython",
    "version": 3
   },
   "file_extension": ".py",
   "mimetype": "text/x-python",
   "name": "python",
   "nbconvert_exporter": "python",
   "pygments_lexer": "ipython3",
   "version": "3.9.13"
  },
  "orig_nbformat": 4
 },
 "nbformat": 4,
 "nbformat_minor": 2
}
