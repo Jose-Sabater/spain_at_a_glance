{
 "cells": [
  {
   "cell_type": "code",
   "execution_count": null,
   "metadata": {},
   "outputs": [],
   "source": [
    "import pandas as pd\n",
    "import numpy as np\n",
    "import matplotlib.pyplot as plt\n",
    "import seaborn as sns\n",
    "import folium as folium\n",
    "import geopandas as gpd\n",
    "import json\n",
    "import os\n",
    "import sys\n",
    "import branca.colormap as cm\n",
    "import matplotlib\n",
    "\n",
    "%load_ext lab_black"
   ]
  },
  {
   "cell_type": "code",
   "execution_count": null,
   "metadata": {},
   "outputs": [],
   "source": [
    "pop_prov_df = pd.read_excel(\"./data/pobmun/pobmun22.xlsx\", header=1)"
   ]
  },
  {
   "cell_type": "code",
   "execution_count": null,
   "metadata": {},
   "outputs": [],
   "source": [
    "pop_prov_df"
   ]
  },
  {
   "cell_type": "code",
   "execution_count": null,
   "metadata": {},
   "outputs": [],
   "source": [
    "provincias_geojson = \"./data/georef-spain-provincia@public.geojson\""
   ]
  },
  {
   "cell_type": "code",
   "execution_count": null,
   "metadata": {},
   "outputs": [],
   "source": [
    "with open(\"./data/georef-spain-provincia@public.geojson\", \"r\") as f:\n",
    "    province_data = json.load(f)"
   ]
  },
  {
   "attachments": {},
   "cell_type": "markdown",
   "metadata": {},
   "source": [
    "## Renaming so that Geojson and DF match names"
   ]
  },
  {
   "cell_type": "code",
   "execution_count": null,
   "metadata": {},
   "outputs": [],
   "source": [
    "prov_names = []\n",
    "for i in range(len(province_data[\"features\"])):\n",
    "    prov_names.append(province_data[\"features\"][i][\"properties\"][\"prov_name\"])"
   ]
  },
  {
   "cell_type": "code",
   "execution_count": null,
   "metadata": {},
   "outputs": [],
   "source": [
    "province_rename_dict = {\n",
    "    \"Alicante/Alacant\": \"Alacant\",\n",
    "    \"Araba/Álava\": \"Araba\",\n",
    "    \"Balears, Illes\": \"Illes Balears\",\n",
    "    \"Castellón/Castelló\": \"Castelló\",\n",
    "    \"Coruña, A\": \"A Coruña\",\n",
    "    \"Palmas, Las\": \"Las Palmas\",\n",
    "    \"Rioja, La\": \"La Rioja\",\n",
    "    \"Valencia/València\": \"València\",\n",
    "}"
   ]
  },
  {
   "cell_type": "code",
   "execution_count": null,
   "metadata": {},
   "outputs": [],
   "source": [
    "# Replace with my province dict\n",
    "pop_prov_df[\"PROVINCIA\"] = pop_prov_df[\"PROVINCIA\"].replace(province_rename_dict)"
   ]
  },
  {
   "cell_type": "code",
   "execution_count": null,
   "metadata": {},
   "outputs": [],
   "source": [
    "# Check if all provinces are in the geojson\n",
    "for i in pop_prov_df[\"PROVINCIA\"].unique():\n",
    "    if i not in prov_names:\n",
    "        print(i)"
   ]
  },
  {
   "cell_type": "code",
   "execution_count": null,
   "metadata": {},
   "outputs": [],
   "source": [
    "male_pop = pop_prov_df.groupby(\"PROVINCIA\")[\"HOMBRES\"].sum()\n",
    "female_pop = pop_prov_df.groupby(\"PROVINCIA\")[\"MUJERES\"].sum()\n",
    "\n",
    "pop_df = pd.DataFrame({\"men\": male_pop, \"women\": female_pop})\n",
    "pop_df = pop_df.sort_values(by=\"men\", ascending=False)"
   ]
  },
  {
   "cell_type": "code",
   "execution_count": null,
   "metadata": {},
   "outputs": [],
   "source": [
    "plt.figure(figsize=(10, 10))\n",
    "pop_df.plot(kind=\"barh\", figsize=(10, 10), width=0.8, cmap=\"tab20c\")\n",
    "plt.title(\"Population by province\")\n",
    "plt.xlabel(\"Population\")\n",
    "plt.ylabel(\"Province\")\n",
    "plt.show()"
   ]
  },
  {
   "cell_type": "code",
   "execution_count": null,
   "metadata": {},
   "outputs": [],
   "source": [
    "pop_df[\"total\"] = pop_df[\"men\"] + pop_df[\"women\"]"
   ]
  },
  {
   "cell_type": "code",
   "execution_count": null,
   "metadata": {},
   "outputs": [],
   "source": [
    "pop_df.reset_index(inplace=True)"
   ]
  },
  {
   "cell_type": "code",
   "execution_count": null,
   "metadata": {},
   "outputs": [],
   "source": [
    "# Add 'total' to GeoJSON properties\n",
    "for feature in province_data[\"features\"]:\n",
    "    prov_name = feature[\"properties\"][\"prov_name\"]\n",
    "    if prov_name == \"Territorio no asociado a ninguna provincia\":\n",
    "        # make it 0\n",
    "        feature[\"properties\"][\"total\"] = 0\n",
    "        continue\n",
    "    total_population = pop_df.loc[pop_df[\"PROVINCIA\"] == prov_name, \"total\"].values[0]\n",
    "    feature[\"properties\"][\"total\"] = int(total_population)"
   ]
  },
  {
   "cell_type": "code",
   "execution_count": null,
   "metadata": {},
   "outputs": [],
   "source": [
    "# cm.linear"
   ]
  },
  {
   "cell_type": "code",
   "execution_count": null,
   "metadata": {},
   "outputs": [],
   "source": [
    "# Get min and max population\n",
    "min_pop = pop_df[\"total\"].min()\n",
    "max_pop = pop_df[\"total\"].max()\n",
    "\n",
    "# Create a colormap\n",
    "colormap = cm.linear.PuBuGn_09.scale(min_pop, max_pop)"
   ]
  },
  {
   "cell_type": "code",
   "execution_count": null,
   "metadata": {},
   "outputs": [],
   "source": [
    "f = folium.Figure(width=1200, height=1000)\n",
    "\n",
    "m = folium.Map(\n",
    "    location=[40, -4],\n",
    "    zoom_start=7,\n",
    "    width=1200,\n",
    "    height=1000,\n",
    "    tiles=\"CartoDB positron\",\n",
    "    control_scale=True,\n",
    "    no_touch=True,\n",
    ").add_to(f)\n",
    "\n",
    "folium.Choropleth(\n",
    "    # geo_data=provincias_geojson,\n",
    "    geo_data=province_data,\n",
    "    name=\"choropleth\",\n",
    "    data=pop_df,\n",
    "    columns=[\"PROVINCIA\", \"total\"],\n",
    "    key_on=\"feature.properties.prov_name\",  # This is the key to match the geojson with the dataframe\n",
    "    fill_color=\"PuBuGn\",\n",
    "    fill_opacity=0.7,\n",
    "    line_opacity=0.2,\n",
    "    legend_name=\"Population\",\n",
    ").add_to(m)\n",
    "\n",
    "\n",
    "# add labels\n",
    "style_function = lambda feature: {\n",
    "    \"fillColor\": colormap(feature[\"properties\"][\"total\"]),\n",
    "    \"color\": \"#000000\",\n",
    "    \"fillOpacity\": 0.5,\n",
    "    \"weight\": 0.1,\n",
    "}\n",
    "\n",
    "highlight_function = lambda x: {\n",
    "    \"fillColor\": \"#000000\",\n",
    "    \"color\": \"#000000\",\n",
    "    \"fillOpacity\": 0.50,\n",
    "    \"weight\": 0.1,\n",
    "}\n",
    "\n",
    "tooltip = folium.features.GeoJsonTooltip(\n",
    "    fields=[\"prov_name\", \"total\"],\n",
    "    aliases=[\"Province\", \"Population\"],\n",
    "    localize=True,\n",
    "    sticky=True,\n",
    "    labels=True,\n",
    "    style=\"background-color: white;\",\n",
    ")\n",
    "\n",
    "folium.GeoJson(\n",
    "    province_data,\n",
    "    style_function=style_function,\n",
    "    highlight_function=highlight_function,\n",
    "    tooltip=tooltip,\n",
    "    name=\"Provinces\",\n",
    ").add_to(m)\n",
    "\n",
    "folium.LayerControl().add_to(m)"
   ]
  },
  {
   "cell_type": "code",
   "execution_count": null,
   "metadata": {},
   "outputs": [],
   "source": [
    "m"
   ]
  },
  {
   "attachments": {},
   "cell_type": "markdown",
   "metadata": {},
   "source": [
    "## Log Scale pop"
   ]
  },
  {
   "cell_type": "code",
   "execution_count": null,
   "metadata": {},
   "outputs": [],
   "source": [
    "# Use logarithmic scale for the total population to enhance the differences\n",
    "pop_df[\"log_total\"] = np.log(pop_df[\"total\"])"
   ]
  },
  {
   "cell_type": "code",
   "execution_count": null,
   "metadata": {},
   "outputs": [],
   "source": [
    "missing_prov = []\n",
    "\n",
    "for code in prov_names:\n",
    "    if code not in pop_prov_df[\"PROVINCIA\"].unique():\n",
    "        missing_prov.append(code)\n",
    "\n",
    "province_data[\"features\"] = [\n",
    "    feature\n",
    "    for feature in province_data[\"features\"]\n",
    "    if feature[\"properties\"][\"prov_name\"] not in missing_prov\n",
    "]"
   ]
  },
  {
   "cell_type": "code",
   "execution_count": null,
   "metadata": {},
   "outputs": [],
   "source": [
    "# Add 'total' to GeoJSON properties\n",
    "for feature in province_data[\"features\"]:\n",
    "    prov_name = feature[\"properties\"][\"prov_name\"]\n",
    "    try:\n",
    "        total_population = pop_df.loc[\n",
    "            pop_df[\"PROVINCIA\"] == prov_name, \"log_total\"\n",
    "        ].values[0]\n",
    "        feature[\"properties\"][\"log_total\"] = int(total_population)\n",
    "    except Exception as e:\n",
    "        print(e)\n",
    "        print(prov_name)"
   ]
  },
  {
   "cell_type": "code",
   "execution_count": null,
   "metadata": {},
   "outputs": [],
   "source": [
    "# Do it but with log scale\n",
    "\n",
    "min_log_pop = pop_df[\"log_total\"].min()\n",
    "max_log_pop = pop_df[\"log_total\"].max()\n",
    "\n",
    "# Create a colormap\n",
    "colormap = cm.linear.PuBuGn_09.scale(min_log_pop, max_log_pop)"
   ]
  },
  {
   "cell_type": "code",
   "execution_count": null,
   "metadata": {},
   "outputs": [],
   "source": [
    "f = folium.Figure(width=1200, height=1000)\n",
    "\n",
    "m = folium.Map(\n",
    "    location=[40, -4],\n",
    "    zoom_start=7,\n",
    "    width=1200,\n",
    "    height=1000,\n",
    "    tiles=\"CartoDB positron\",\n",
    "    control_scale=True,\n",
    "    no_touch=True,\n",
    ").add_to(f)\n",
    "\n",
    "folium.Choropleth(\n",
    "    # geo_data=provincias_geojson,\n",
    "    geo_data=province_data,\n",
    "    name=\"choropleth\",\n",
    "    data=pop_df,\n",
    "    columns=[\"PROVINCIA\", \"log_total\"],\n",
    "    key_on=\"feature.properties.prov_name\",  # This is the key to match the geojson with the dataframe\n",
    "    fill_color=\"PuBuGn\",\n",
    "    fill_opacity=0.7,\n",
    "    line_opacity=0.2,\n",
    "    legend_name=\"Population\",\n",
    ").add_to(m)\n",
    "\n",
    "\n",
    "# add labels\n",
    "style_function = lambda feature: {\n",
    "    \"fillColor\": colormap(np.log(feature[\"properties\"][\"total\"])),\n",
    "    \"color\": \"#000000\",\n",
    "    \"fillOpacity\": 0.5,\n",
    "    \"weight\": 0.1,\n",
    "}\n",
    "\n",
    "highlight_function = lambda x: {\n",
    "    \"fillColor\": \"#000000\",\n",
    "    \"color\": \"#000000\",\n",
    "    \"fillOpacity\": 0.50,\n",
    "    \"weight\": 0.1,\n",
    "}\n",
    "\n",
    "tooltip = folium.features.GeoJsonTooltip(\n",
    "    fields=[\"prov_name\", \"log_total\"],\n",
    "    aliases=[\"Province\", \"Population\"],\n",
    "    localize=True,\n",
    "    sticky=True,\n",
    "    labels=True,\n",
    "    style=\"background-color: white;\",\n",
    ")\n",
    "\n",
    "folium.GeoJson(\n",
    "    province_data,\n",
    "    style_function=style_function,\n",
    "    highlight_function=highlight_function,\n",
    "    tooltip=tooltip,\n",
    "    name=\"Provinces\",\n",
    ").add_to(m)\n",
    "\n",
    "folium.LayerControl().add_to(m)"
   ]
  },
  {
   "cell_type": "code",
   "execution_count": null,
   "metadata": {},
   "outputs": [],
   "source": [
    "m"
   ]
  },
  {
   "cell_type": "code",
   "execution_count": null,
   "metadata": {},
   "outputs": [],
   "source": [
    "pop_df = pop_df.assign(m_w_ratio=pop_df[\"men\"] / pop_df[\"women\"])\n",
    "pop_df.head()"
   ]
  },
  {
   "cell_type": "code",
   "execution_count": null,
   "metadata": {},
   "outputs": [],
   "source": [
    "# Add 'm_w_ratio' to GeoJSON properties\n",
    "for feature in province_data[\"features\"]:\n",
    "    prov_name = feature[\"properties\"][\"prov_name\"]\n",
    "    if prov_name == \"Territorio no asociado a ninguna provincia\":\n",
    "        # make it 0\n",
    "        feature[\"properties\"][\"m_w_ratio\"] = 1\n",
    "        continue\n",
    "    m_w_ratio = pop_df.loc[pop_df[\"PROVINCIA\"] == prov_name, \"m_w_ratio\"].values[0]\n",
    "    feature[\"properties\"][\"m_w_ratio\"] = float(m_w_ratio)"
   ]
  },
  {
   "cell_type": "code",
   "execution_count": null,
   "metadata": {},
   "outputs": [],
   "source": [
    "# Get min and max population\n",
    "min_ratio = pop_df[\"m_w_ratio\"].min()\n",
    "max_ratio = pop_df[\"m_w_ratio\"].max()\n",
    "\n",
    "# Create a colormap\n",
    "colormap = cm.linear.PuBuGn_09.scale(min_ratio, max_ratio)\n",
    "# colormap = cm.linear.YlGn_09.scale(min_pop, max_pop)"
   ]
  },
  {
   "cell_type": "code",
   "execution_count": null,
   "metadata": {},
   "outputs": [],
   "source": [
    "f2 = folium.Figure(width=1200, height=1000)\n",
    "\n",
    "m2 = folium.Map(\n",
    "    location=[40, -4],\n",
    "    zoom_start=7,\n",
    "    width=1200,\n",
    "    height=1000,\n",
    "    tiles=\"CartoDB positron\",\n",
    "    control_scale=True,\n",
    "    no_touch=True,\n",
    ").add_to(f2)\n",
    "folium.Choropleth(\n",
    "    # geo_data=provincias_geojson,\n",
    "    geo_data=province_data,\n",
    "    name=\"choropleth\",\n",
    "    data=pop_df,\n",
    "    columns=[\"PROVINCIA\", \"m_w_ratio\"],\n",
    "    key_on=\"feature.properties.prov_name\",  # This is the key to match the geojson with the dataframe\n",
    "    fill_color=\"PuBuGn\",\n",
    "    fill_opacity=0.7,\n",
    "    line_opacity=0.2,\n",
    "    legend_name=\"men/women ratio\",\n",
    ").add_to(m2)\n",
    "\n",
    "# add labels\n",
    "# Create style function using the color function\n",
    "style_function = lambda feature: {\n",
    "    \"fillColor\": colormap(feature[\"properties\"][\"m_w_ratio\"]),\n",
    "    \"color\": \"#000000\",\n",
    "    \"fillOpacity\": 0,\n",
    "    \"weight\": 0.1,\n",
    "}\n",
    "\n",
    "highlight_function = lambda x: {\n",
    "    \"fillColor\": \"#000000\",\n",
    "    \"color\": \"#000000\",\n",
    "    \"fillOpacity\": 0.5,\n",
    "    \"weight\": 0.1,\n",
    "}\n",
    "\n",
    "tooltip = folium.features.GeoJsonTooltip(\n",
    "    fields=[\"prov_name\", \"m_w_ratio\"],\n",
    "    aliases=[\"Province\", \"Men per Woman Ratio\"],\n",
    "    localize=True,\n",
    "    sticky=True,\n",
    "    labels=True,\n",
    "    style=\"background-color: white;\",\n",
    ")\n",
    "\n",
    "folium.GeoJson(\n",
    "    province_data,\n",
    "    style_function=style_function,\n",
    "    highlight_function=highlight_function,\n",
    "    tooltip=tooltip,\n",
    "    name=\"m_w_ratio\",\n",
    ").add_to(m2)\n",
    "\n",
    "folium.LayerControl().add_to(m2)"
   ]
  },
  {
   "cell_type": "code",
   "execution_count": null,
   "metadata": {},
   "outputs": [],
   "source": [
    "m2"
   ]
  },
  {
   "cell_type": "code",
   "execution_count": null,
   "metadata": {},
   "outputs": [],
   "source": [
    "# Provinces with most women:\n",
    "print(\"Provinces with most women:\")\n",
    "print(\n",
    "    pop_df[[\"PROVINCIA\", \"m_w_ratio\"]]\n",
    "    .sort_values(by=\"m_w_ratio\")\n",
    "    .head(10)\n",
    "    .to_markdown()\n",
    ")\n",
    "pop_df[[\"PROVINCIA\", \"m_w_ratio\"]].sort_values(by=\"m_w_ratio\").head(10).plot(\n",
    "    kind=\"bar\", x=\"PROVINCIA\", ylim=[0.9, 0.98], cmap=\"tab20c\"\n",
    ")\n",
    "ax = plt.gca()\n",
    "ax.spines[\"top\"].set_visible(False)\n",
    "ax.spines[\"right\"].set_visible(False)\n",
    "plt.title(\"Provinces with most men\")\n",
    "plt.xlabel(\"Province\")\n",
    "plt.ylabel(\"Man/Woman Ratio\")\n",
    "# no legend\n",
    "plt.legend().remove()\n",
    "plt.show()"
   ]
  },
  {
   "cell_type": "code",
   "execution_count": null,
   "metadata": {},
   "outputs": [],
   "source": [
    "print(\"Provinces with most men:\")\n",
    "print(\n",
    "    pop_df[[\"PROVINCIA\", \"m_w_ratio\"]]\n",
    "    .sort_values(by=\"m_w_ratio\", ascending=False)\n",
    "    .head(10)\n",
    "    .to_markdown()\n",
    ")\n",
    "pop_df[[\"PROVINCIA\", \"m_w_ratio\"]].sort_values(by=\"m_w_ratio\", ascending=False).head(\n",
    "    10\n",
    ").plot(kind=\"bar\", x=\"PROVINCIA\", ylim=[0.98, 1.06], cmap=\"tab20c\")\n",
    "ax = plt.gca()\n",
    "ax.spines[\"top\"].set_visible(False)\n",
    "ax.spines[\"right\"].set_visible(False)\n",
    "plt.title(\"Provinces with most men\")\n",
    "plt.xlabel(\"Province\")\n",
    "plt.ylabel(\"Man/Woman Ratio\")\n",
    "# no legend\n",
    "plt.legend().remove()\n",
    "plt.show()"
   ]
  },
  {
   "cell_type": "code",
   "execution_count": null,
   "metadata": {},
   "outputs": [],
   "source": [
    "# Plot a bar chart that is the nr of provinces with m_w_ratio larger than 1 vs smaller than 1\n",
    "pop_df[\"m_w_ratio\"].apply(lambda x: 1 if x > 1 else 0).value_counts().plot(\n",
    "    kind=\"bar\", x=\"m_w_ratio\"\n",
    ")\n",
    "plt.title(\"Count of provinces with Man/Woman > 1 vs < 1\")\n",
    "plt.xticks([0, 1], [\"More women\", \" More men\"], rotation=0)\n",
    "ax = plt.gca()\n",
    "ax.spines[\"top\"].set_visible(False)\n",
    "ax.spines[\"right\"].set_visible(False)\n",
    "plt.xlabel(\"Amount of men per woman\")\n",
    "plt.ylabel(\"count\")\n",
    "plt.bar_label(plt.gca().containers[0], fmt=\"%d\")\n",
    "plt.show()"
   ]
  },
  {
   "cell_type": "code",
   "execution_count": null,
   "metadata": {},
   "outputs": [],
   "source": [
    "# Bar plot of absolut values of men vs women\n",
    "pop_df[[\"men\", \"women\"]].sum().div(1000000).plot(kind=\"bar\")\n",
    "plt.title(\"Total population in Spain\")\n",
    "plt.xticks(rotation=0)\n",
    "ax = plt.gca()\n",
    "ax.spines[\"top\"].set_visible(False)\n",
    "ax.spines[\"right\"].set_visible(False)\n",
    "plt.ylabel(\"Population (millions)\")\n",
    "plt.bar_label(ax.containers[0], fmt=\"%.1f\")\n",
    "plt.show()"
   ]
  },
  {
   "attachments": {},
   "cell_type": "markdown",
   "metadata": {},
   "source": [
    "# Mortality"
   ]
  },
  {
   "cell_type": "code",
   "execution_count": null,
   "metadata": {},
   "outputs": [],
   "source": [
    "pop_df[\"PROVINCIA\"].unique()"
   ]
  },
  {
   "cell_type": "code",
   "execution_count": null,
   "metadata": {},
   "outputs": [],
   "source": [
    "mortality_raw = pd.read_csv(\"./data/mortalidad.csv\", sep=\";\")"
   ]
  },
  {
   "cell_type": "code",
   "execution_count": null,
   "metadata": {},
   "outputs": [],
   "source": [
    "mortality_raw.head()"
   ]
  },
  {
   "cell_type": "code",
   "execution_count": null,
   "metadata": {},
   "outputs": [],
   "source": [
    "mortality_raw[\"Provincias\"].unique()"
   ]
  },
  {
   "cell_type": "code",
   "execution_count": null,
   "metadata": {},
   "outputs": [],
   "source": [
    "mortality_raw[\"Funciones\"].unique()"
   ]
  },
  {
   "cell_type": "code",
   "execution_count": null,
   "metadata": {},
   "outputs": [],
   "source": [
    "mortality_raw[\n",
    "    (mortality_raw[\"Funciones\"] == \"Esperanza de vida\")\n",
    "    & (mortality_raw[\"Periodo\"] == 2021)\n",
    "]"
   ]
  },
  {
   "cell_type": "code",
   "execution_count": null,
   "metadata": {},
   "outputs": [],
   "source": [
    "life_exp = mortality_raw[mortality_raw[\"Funciones\"] == \"Esperanza de vida\"].copy()"
   ]
  },
  {
   "cell_type": "code",
   "execution_count": null,
   "metadata": {},
   "outputs": [],
   "source": [
    "life_exp[\"Total\"] = life_exp[\"Total\"].str.replace(\",\", \".\").astype(float)"
   ]
  },
  {
   "cell_type": "code",
   "execution_count": null,
   "metadata": {},
   "outputs": [],
   "source": [
    "for edad in life_exp[\"Edad\"].unique():\n",
    "    _temp_mort = life_exp[\n",
    "        (life_exp[\"Edad\"] == edad)\n",
    "        & (life_exp[\"Periodo\"] == 2021)\n",
    "        & (life_exp[\"Sexo\"] == \"Ambos sexos\")\n",
    "    ]\n",
    "    _temp_mort.set_index(\"Provincias\", inplace=True)\n",
    "    _temp_mort[\"Total\"].sort_values(ascending=False).plot(\n",
    "        kind=\"bar\", x=\"Provincias\", figsize=(10, 5)\n",
    "    )\n",
    "    plt.title(f\"Life expectancy at {edad} \")\n",
    "    plt.show()"
   ]
  },
  {
   "cell_type": "code",
   "execution_count": null,
   "metadata": {},
   "outputs": [],
   "source": [
    "mortality_raw[\n",
    "    (mortality_raw[\"Funciones\"] == \"Supervivientes\")\n",
    "    & (mortality_raw[\"Periodo\"] == 2021)\n",
    "]"
   ]
  },
  {
   "attachments": {},
   "cell_type": "markdown",
   "metadata": {},
   "source": [
    "## Nombres Más frecuentes\n"
   ]
  },
  {
   "cell_type": "code",
   "execution_count": null,
   "metadata": {},
   "outputs": [],
   "source": [
    "most_common_names_men = pd.read_excel(\n",
    "    \"./data/nombres_mas_frecuentes.xls\", sheet_name=\"ESPAÑA_100_hombres\", header=4\n",
    ")\n",
    "most_common_names_women = pd.read_excel(\n",
    "    \"./data/nombres_mas_frecuentes.xls\", sheet_name=\"ESPAÑA_100_mujeres\", header=4\n",
    ")"
   ]
  },
  {
   "cell_type": "code",
   "execution_count": null,
   "metadata": {},
   "outputs": [],
   "source": [
    "# same but in sns\n",
    "plt.figure(figsize=(10, 15))\n",
    "\n",
    "sns.barplot(data=most_common_names_men, x=\"FRECUENCIA\", y=\"NOMBRE COMPLETO\")\n",
    "plt.title(\"100 Most frequent names for men 01/01/2022\")\n",
    "plt.ylabel(\"Name\")\n",
    "plt.xlabel(\"Frequency\")\n",
    "plt.tick_params(axis=\"y\", labelsize=8)\n",
    "plt.show()"
   ]
  },
  {
   "cell_type": "code",
   "execution_count": null,
   "metadata": {},
   "outputs": [],
   "source": [
    "fig, ax = plt.subplots(1, 2, figsize=(20, 15))\n",
    "sns.barplot(\n",
    "    data=most_common_names_men,\n",
    "    x=\"FRECUENCIA\",\n",
    "    y=\"NOMBRE COMPLETO\",\n",
    "    ax=ax[0],\n",
    ")\n",
    "sns.barplot(\n",
    "    data=most_common_names_women,\n",
    "    x=\"FRECUENCIA\",\n",
    "    y=\"NOMBRE COMPLETO\",\n",
    "    ax=ax[1],\n",
    ")\n",
    "ax[0].tick_params(axis=\"y\", labelsize=8)\n",
    "ax[1].tick_params(axis=\"y\", labelsize=8)\n",
    "ax[0].set_title(\"Men\")\n",
    "ax[1].set_title(\"Women\")\n",
    "ax[0].set_ylabel(\"Name\")\n",
    "ax[1].set_ylabel(\"\")  # Remove y label from second subplot\n",
    "# common y label\n",
    "\n",
    "plt.suptitle(\"100 Most frequent names 01/01/2022\", y=0.92)\n",
    "plt.show()"
   ]
  }
 ],
 "metadata": {
  "kernelspec": {
   "display_name": "Python 3",
   "language": "python",
   "name": "python3"
  },
  "language_info": {
   "codemirror_mode": {
    "name": "ipython",
    "version": 3
   },
   "file_extension": ".py",
   "mimetype": "text/x-python",
   "name": "python",
   "nbconvert_exporter": "python",
   "pygments_lexer": "ipython3",
   "version": "3.9.13"
  },
  "orig_nbformat": 4
 },
 "nbformat": 4,
 "nbformat_minor": 2
}
