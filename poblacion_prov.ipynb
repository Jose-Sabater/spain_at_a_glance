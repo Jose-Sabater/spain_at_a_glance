{
 "cells": [
  {
   "cell_type": "code",
   "execution_count": null,
   "metadata": {},
   "outputs": [],
   "source": [
    "import pandas as pd\n",
    "import numpy as np\n",
    "import matplotlib.pyplot as plt\n",
    "import seaborn as sns\n",
    "import folium as folium\n",
    "import geopandas as gpd\n",
    "import json\n",
    "import os\n",
    "import sys\n",
    "import branca.colormap as cm\n",
    "import matplotlib\n",
    "import plotly.express as px\n",
    "import plotly.graph_objects as go\n",
    "\n",
    "%load_ext lab_black"
   ]
  },
  {
   "cell_type": "code",
   "execution_count": null,
   "metadata": {},
   "outputs": [],
   "source": [
    "pop_prov_df = pd.read_excel(\"./data/pobmun/pobmun22.xlsx\", header=1)"
   ]
  },
  {
   "cell_type": "code",
   "execution_count": null,
   "metadata": {},
   "outputs": [],
   "source": [
    "pop_prov_df"
   ]
  },
  {
   "cell_type": "code",
   "execution_count": null,
   "metadata": {},
   "outputs": [],
   "source": [
    "provincias_geojson = \"./data/georef-spain-provincia@public.geojson\""
   ]
  },
  {
   "cell_type": "code",
   "execution_count": null,
   "metadata": {},
   "outputs": [],
   "source": [
    "with open(\"./data/georef-spain-provincia@public.geojson\", \"r\") as f:\n",
    "    province_data = json.load(f)"
   ]
  },
  {
   "attachments": {},
   "cell_type": "markdown",
   "metadata": {},
   "source": [
    "## Renaming so that Geojson and DF match names"
   ]
  },
  {
   "cell_type": "code",
   "execution_count": null,
   "metadata": {},
   "outputs": [],
   "source": [
    "prov_names = []\n",
    "for i in range(len(province_data[\"features\"])):\n",
    "    prov_names.append(province_data[\"features\"][i][\"properties\"][\"prov_name\"])"
   ]
  },
  {
   "cell_type": "code",
   "execution_count": null,
   "metadata": {},
   "outputs": [],
   "source": [
    "province_rename_dict = {\n",
    "    \"Alicante/Alacant\": \"Alacant\",\n",
    "    \"Araba/Álava\": \"Araba\",\n",
    "    \"Balears, Illes\": \"Illes Balears\",\n",
    "    \"Castellón/Castelló\": \"Castelló\",\n",
    "    \"Coruña, A\": \"A Coruña\",\n",
    "    \"Palmas, Las\": \"Las Palmas\",\n",
    "    \"Rioja, La\": \"La Rioja\",\n",
    "    \"Valencia/València\": \"València\",\n",
    "}"
   ]
  },
  {
   "cell_type": "code",
   "execution_count": null,
   "metadata": {},
   "outputs": [],
   "source": [
    "# Replace with my province dict\n",
    "pop_prov_df[\"PROVINCIA\"] = pop_prov_df[\"PROVINCIA\"].replace(province_rename_dict)"
   ]
  },
  {
   "cell_type": "code",
   "execution_count": null,
   "metadata": {},
   "outputs": [],
   "source": [
    "# Check if all provinces are in the geojson\n",
    "for i in pop_prov_df[\"PROVINCIA\"].unique():\n",
    "    if i not in prov_names:\n",
    "        print(i)"
   ]
  },
  {
   "cell_type": "code",
   "execution_count": null,
   "metadata": {},
   "outputs": [],
   "source": [
    "male_pop = pop_prov_df.groupby(\"PROVINCIA\")[\"HOMBRES\"].sum()\n",
    "female_pop = pop_prov_df.groupby(\"PROVINCIA\")[\"MUJERES\"].sum()\n",
    "\n",
    "pop_df = pd.DataFrame({\"men\": male_pop, \"women\": female_pop})\n",
    "pop_df = pop_df.sort_values(by=\"men\", ascending=False)"
   ]
  },
  {
   "cell_type": "code",
   "execution_count": null,
   "metadata": {},
   "outputs": [],
   "source": [
    "plt.figure(figsize=(10, 10))\n",
    "pop_df.plot(kind=\"barh\", figsize=(10, 10), width=0.8, cmap=\"tab20c\")\n",
    "plt.title(\"Population by province\")\n",
    "plt.xlabel(\"Population\")\n",
    "plt.ylabel(\"Province\")\n",
    "plt.show()"
   ]
  },
  {
   "cell_type": "code",
   "execution_count": null,
   "metadata": {},
   "outputs": [],
   "source": [
    "pop_df[\"total\"] = pop_df[\"men\"] + pop_df[\"women\"]"
   ]
  },
  {
   "cell_type": "code",
   "execution_count": null,
   "metadata": {},
   "outputs": [],
   "source": [
    "pop_df.reset_index(inplace=True)"
   ]
  },
  {
   "cell_type": "code",
   "execution_count": null,
   "metadata": {},
   "outputs": [],
   "source": [
    "# Add 'total' to GeoJSON properties\n",
    "for feature in province_data[\"features\"]:\n",
    "    prov_name = feature[\"properties\"][\"prov_name\"]\n",
    "    if prov_name == \"Territorio no asociado a ninguna provincia\":\n",
    "        # make it 0\n",
    "        feature[\"properties\"][\"total\"] = 0\n",
    "        continue\n",
    "    total_population = pop_df.loc[pop_df[\"PROVINCIA\"] == prov_name, \"total\"].values[0]\n",
    "    feature[\"properties\"][\"total\"] = int(total_population)"
   ]
  },
  {
   "cell_type": "code",
   "execution_count": null,
   "metadata": {},
   "outputs": [],
   "source": [
    "# cm.linear"
   ]
  },
  {
   "cell_type": "code",
   "execution_count": null,
   "metadata": {},
   "outputs": [],
   "source": [
    "# Get min and max population\n",
    "min_pop = pop_df[\"total\"].min()\n",
    "max_pop = pop_df[\"total\"].max()\n",
    "\n",
    "# Create a colormap\n",
    "colormap = cm.linear.PuBuGn_09.scale(min_pop, max_pop)"
   ]
  },
  {
   "cell_type": "code",
   "execution_count": null,
   "metadata": {},
   "outputs": [],
   "source": [
    "f = folium.Figure(width=1200, height=1000)\n",
    "\n",
    "m = folium.Map(\n",
    "    location=[40, -4],\n",
    "    zoom_start=7,\n",
    "    width=1200,\n",
    "    height=1000,\n",
    "    tiles=\"CartoDB positron\",\n",
    "    control_scale=True,\n",
    "    no_touch=True,\n",
    ").add_to(f)\n",
    "\n",
    "folium.Choropleth(\n",
    "    # geo_data=provincias_geojson,\n",
    "    geo_data=province_data,\n",
    "    name=\"choropleth\",\n",
    "    data=pop_df,\n",
    "    columns=[\"PROVINCIA\", \"total\"],\n",
    "    key_on=\"feature.properties.prov_name\",  # This is the key to match the geojson with the dataframe\n",
    "    fill_color=\"PuBuGn\",\n",
    "    fill_opacity=0.7,\n",
    "    line_opacity=0.2,\n",
    "    legend_name=\"Population\",\n",
    ").add_to(m)\n",
    "\n",
    "\n",
    "# add labels\n",
    "style_function = lambda feature: {\n",
    "    \"fillColor\": colormap(feature[\"properties\"][\"total\"]),\n",
    "    \"color\": \"#000000\",\n",
    "    \"fillOpacity\": 0.5,\n",
    "    \"weight\": 0.1,\n",
    "}\n",
    "\n",
    "highlight_function = lambda x: {\n",
    "    \"fillColor\": \"#000000\",\n",
    "    \"color\": \"#000000\",\n",
    "    \"fillOpacity\": 0.50,\n",
    "    \"weight\": 0.1,\n",
    "}\n",
    "\n",
    "tooltip = folium.features.GeoJsonTooltip(\n",
    "    fields=[\"prov_name\", \"total\"],\n",
    "    aliases=[\"Province\", \"Population\"],\n",
    "    localize=True,\n",
    "    sticky=True,\n",
    "    labels=True,\n",
    "    style=\"background-color: white;\",\n",
    ")\n",
    "\n",
    "folium.GeoJson(\n",
    "    province_data,\n",
    "    style_function=style_function,\n",
    "    highlight_function=highlight_function,\n",
    "    tooltip=tooltip,\n",
    "    name=\"Provinces\",\n",
    ").add_to(m)\n",
    "\n",
    "folium.LayerControl().add_to(m)"
   ]
  },
  {
   "cell_type": "code",
   "execution_count": null,
   "metadata": {},
   "outputs": [],
   "source": [
    "m"
   ]
  },
  {
   "attachments": {},
   "cell_type": "markdown",
   "metadata": {},
   "source": [
    "## Log Scale pop"
   ]
  },
  {
   "cell_type": "code",
   "execution_count": null,
   "metadata": {},
   "outputs": [],
   "source": [
    "# Use logarithmic scale for the total population to enhance the differences\n",
    "pop_df[\"log_total\"] = np.log(pop_df[\"total\"])"
   ]
  },
  {
   "cell_type": "code",
   "execution_count": null,
   "metadata": {},
   "outputs": [],
   "source": [
    "missing_prov = []\n",
    "\n",
    "for code in prov_names:\n",
    "    if code not in pop_prov_df[\"PROVINCIA\"].unique():\n",
    "        missing_prov.append(code)\n",
    "\n",
    "province_data[\"features\"] = [\n",
    "    feature\n",
    "    for feature in province_data[\"features\"]\n",
    "    if feature[\"properties\"][\"prov_name\"] not in missing_prov\n",
    "]"
   ]
  },
  {
   "cell_type": "code",
   "execution_count": null,
   "metadata": {},
   "outputs": [],
   "source": [
    "# Add 'total' to GeoJSON properties\n",
    "for feature in province_data[\"features\"]:\n",
    "    prov_name = feature[\"properties\"][\"prov_name\"]\n",
    "    try:\n",
    "        total_population = pop_df.loc[\n",
    "            pop_df[\"PROVINCIA\"] == prov_name, \"log_total\"\n",
    "        ].values[0]\n",
    "        feature[\"properties\"][\"log_total\"] = int(total_population)\n",
    "    except Exception as e:\n",
    "        print(e)\n",
    "        print(prov_name)"
   ]
  },
  {
   "cell_type": "code",
   "execution_count": null,
   "metadata": {},
   "outputs": [],
   "source": [
    "# Do it but with log scale\n",
    "\n",
    "min_log_pop = pop_df[\"log_total\"].min()\n",
    "max_log_pop = pop_df[\"log_total\"].max()\n",
    "\n",
    "# Create a colormap\n",
    "colormap = cm.linear.PuBuGn_09.scale(min_log_pop, max_log_pop)"
   ]
  },
  {
   "cell_type": "code",
   "execution_count": null,
   "metadata": {},
   "outputs": [],
   "source": [
    "f = folium.Figure(width=1200, height=1000)\n",
    "\n",
    "m = folium.Map(\n",
    "    location=[40, -4],\n",
    "    zoom_start=7,\n",
    "    width=1200,\n",
    "    height=1000,\n",
    "    tiles=\"CartoDB positron\",\n",
    "    control_scale=True,\n",
    "    no_touch=True,\n",
    ").add_to(f)\n",
    "\n",
    "folium.Choropleth(\n",
    "    # geo_data=provincias_geojson,\n",
    "    geo_data=province_data,\n",
    "    name=\"choropleth\",\n",
    "    data=pop_df,\n",
    "    columns=[\"PROVINCIA\", \"log_total\"],\n",
    "    key_on=\"feature.properties.prov_name\",  # This is the key to match the geojson with the dataframe\n",
    "    fill_color=\"PuBuGn\",\n",
    "    fill_opacity=0.7,\n",
    "    line_opacity=0.2,\n",
    "    legend_name=\"Population\",\n",
    ").add_to(m)\n",
    "\n",
    "\n",
    "# add labels\n",
    "style_function = lambda feature: {\n",
    "    \"fillColor\": colormap(np.log(feature[\"properties\"][\"total\"])),\n",
    "    \"color\": \"#000000\",\n",
    "    \"fillOpacity\": 0.5,\n",
    "    \"weight\": 0.1,\n",
    "}\n",
    "\n",
    "highlight_function = lambda x: {\n",
    "    \"fillColor\": \"#000000\",\n",
    "    \"color\": \"#000000\",\n",
    "    \"fillOpacity\": 0.50,\n",
    "    \"weight\": 0.1,\n",
    "}\n",
    "\n",
    "tooltip = folium.features.GeoJsonTooltip(\n",
    "    fields=[\"prov_name\", \"log_total\"],\n",
    "    aliases=[\"Province\", \"Population\"],\n",
    "    localize=True,\n",
    "    sticky=True,\n",
    "    labels=True,\n",
    "    style=\"background-color: white;\",\n",
    ")\n",
    "\n",
    "folium.GeoJson(\n",
    "    province_data,\n",
    "    style_function=style_function,\n",
    "    highlight_function=highlight_function,\n",
    "    tooltip=tooltip,\n",
    "    name=\"Provinces\",\n",
    ").add_to(m)\n",
    "\n",
    "folium.LayerControl().add_to(m)"
   ]
  },
  {
   "cell_type": "code",
   "execution_count": null,
   "metadata": {},
   "outputs": [],
   "source": [
    "m"
   ]
  },
  {
   "cell_type": "code",
   "execution_count": null,
   "metadata": {},
   "outputs": [],
   "source": [
    "pop_df = pop_df.assign(m_w_ratio=pop_df[\"men\"] / pop_df[\"women\"])\n",
    "pop_df.head()"
   ]
  },
  {
   "cell_type": "code",
   "execution_count": null,
   "metadata": {},
   "outputs": [],
   "source": [
    "# Add 'm_w_ratio' to GeoJSON properties\n",
    "for feature in province_data[\"features\"]:\n",
    "    prov_name = feature[\"properties\"][\"prov_name\"]\n",
    "    if prov_name == \"Territorio no asociado a ninguna provincia\":\n",
    "        # make it 0\n",
    "        feature[\"properties\"][\"m_w_ratio\"] = 1\n",
    "        continue\n",
    "    m_w_ratio = pop_df.loc[pop_df[\"PROVINCIA\"] == prov_name, \"m_w_ratio\"].values[0]\n",
    "    feature[\"properties\"][\"m_w_ratio\"] = float(m_w_ratio)"
   ]
  },
  {
   "cell_type": "code",
   "execution_count": null,
   "metadata": {},
   "outputs": [],
   "source": [
    "# Get min and max population\n",
    "min_ratio = pop_df[\"m_w_ratio\"].min()\n",
    "max_ratio = pop_df[\"m_w_ratio\"].max()\n",
    "\n",
    "# Create a colormap\n",
    "colormap = cm.linear.PuBuGn_09.scale(min_ratio, max_ratio)\n",
    "# colormap = cm.linear.YlGn_09.scale(min_pop, max_pop)"
   ]
  },
  {
   "cell_type": "code",
   "execution_count": null,
   "metadata": {},
   "outputs": [],
   "source": [
    "f2 = folium.Figure(width=1200, height=1000)\n",
    "\n",
    "m2 = folium.Map(\n",
    "    location=[40, -4],\n",
    "    zoom_start=7,\n",
    "    width=1200,\n",
    "    height=1000,\n",
    "    tiles=\"CartoDB positron\",\n",
    "    control_scale=True,\n",
    "    no_touch=True,\n",
    ").add_to(f2)\n",
    "folium.Choropleth(\n",
    "    # geo_data=provincias_geojson,\n",
    "    geo_data=province_data,\n",
    "    name=\"choropleth\",\n",
    "    data=pop_df,\n",
    "    columns=[\"PROVINCIA\", \"m_w_ratio\"],\n",
    "    key_on=\"feature.properties.prov_name\",  # This is the key to match the geojson with the dataframe\n",
    "    fill_color=\"PuBuGn\",\n",
    "    fill_opacity=0.7,\n",
    "    line_opacity=0.2,\n",
    "    legend_name=\"men/women ratio\",\n",
    ").add_to(m2)\n",
    "\n",
    "# add labels\n",
    "# Create style function using the color function\n",
    "style_function = lambda feature: {\n",
    "    \"fillColor\": colormap(feature[\"properties\"][\"m_w_ratio\"]),\n",
    "    \"color\": \"#000000\",\n",
    "    \"fillOpacity\": 0,\n",
    "    \"weight\": 0.1,\n",
    "}\n",
    "\n",
    "highlight_function = lambda x: {\n",
    "    \"fillColor\": \"#000000\",\n",
    "    \"color\": \"#000000\",\n",
    "    \"fillOpacity\": 0.5,\n",
    "    \"weight\": 0.1,\n",
    "}\n",
    "\n",
    "tooltip = folium.features.GeoJsonTooltip(\n",
    "    fields=[\"prov_name\", \"m_w_ratio\"],\n",
    "    aliases=[\"Province\", \"Men per Woman Ratio\"],\n",
    "    localize=True,\n",
    "    sticky=True,\n",
    "    labels=True,\n",
    "    style=\"background-color: white;\",\n",
    ")\n",
    "\n",
    "folium.GeoJson(\n",
    "    province_data,\n",
    "    style_function=style_function,\n",
    "    highlight_function=highlight_function,\n",
    "    tooltip=tooltip,\n",
    "    name=\"m_w_ratio\",\n",
    ").add_to(m2)\n",
    "\n",
    "folium.LayerControl().add_to(m2)"
   ]
  },
  {
   "cell_type": "code",
   "execution_count": null,
   "metadata": {},
   "outputs": [],
   "source": [
    "m2"
   ]
  },
  {
   "cell_type": "code",
   "execution_count": null,
   "metadata": {},
   "outputs": [],
   "source": [
    "# Provinces with most women:\n",
    "print(\"Provinces with most women:\")\n",
    "print(\n",
    "    pop_df[[\"PROVINCIA\", \"m_w_ratio\"]]\n",
    "    .sort_values(by=\"m_w_ratio\")\n",
    "    .head(10)\n",
    "    .to_markdown()\n",
    ")\n",
    "pop_df[[\"PROVINCIA\", \"m_w_ratio\"]].sort_values(by=\"m_w_ratio\").head(10).plot(\n",
    "    kind=\"bar\", x=\"PROVINCIA\", ylim=[0.9, 0.98], cmap=\"tab20c\"\n",
    ")\n",
    "ax = plt.gca()\n",
    "ax.spines[\"top\"].set_visible(False)\n",
    "ax.spines[\"right\"].set_visible(False)\n",
    "plt.title(\"Provinces with most women\")\n",
    "plt.xlabel(\"Province\")\n",
    "plt.ylabel(\"Man/Woman Ratio\")\n",
    "# no legend\n",
    "plt.legend().remove()\n",
    "plt.show()"
   ]
  },
  {
   "cell_type": "code",
   "execution_count": null,
   "metadata": {},
   "outputs": [],
   "source": [
    "print(\"Provinces with most men:\")\n",
    "print(\n",
    "    pop_df[[\"PROVINCIA\", \"m_w_ratio\"]]\n",
    "    .sort_values(by=\"m_w_ratio\", ascending=False)\n",
    "    .head(10)\n",
    "    .to_markdown()\n",
    ")\n",
    "pop_df[[\"PROVINCIA\", \"m_w_ratio\"]].sort_values(by=\"m_w_ratio\", ascending=False).head(\n",
    "    10\n",
    ").plot(kind=\"bar\", x=\"PROVINCIA\", ylim=[0.98, 1.06], cmap=\"tab20c\")\n",
    "ax = plt.gca()\n",
    "ax.spines[\"top\"].set_visible(False)\n",
    "ax.spines[\"right\"].set_visible(False)\n",
    "plt.title(\"Provinces with most men\")\n",
    "plt.xlabel(\"Province\")\n",
    "plt.ylabel(\"Man/Woman Ratio\")\n",
    "# no legend\n",
    "plt.legend().remove()\n",
    "plt.show()"
   ]
  },
  {
   "cell_type": "code",
   "execution_count": null,
   "metadata": {},
   "outputs": [],
   "source": [
    "# Plot a bar chart that is the nr of provinces with m_w_ratio larger than 1 vs smaller than 1\n",
    "pop_df[\"m_w_ratio\"].apply(lambda x: 1 if x > 1 else 0).value_counts().plot(\n",
    "    kind=\"bar\", x=\"m_w_ratio\"\n",
    ")\n",
    "plt.title(\"Count of provinces with Man/Woman > 1 vs < 1\")\n",
    "plt.xticks([0, 1], [\"More women\", \" More men\"], rotation=0)\n",
    "ax = plt.gca()\n",
    "ax.spines[\"top\"].set_visible(False)\n",
    "ax.spines[\"right\"].set_visible(False)\n",
    "plt.xlabel(\"Amount of men per woman\")\n",
    "plt.ylabel(\"count\")\n",
    "plt.bar_label(plt.gca().containers[0], fmt=\"%d\")\n",
    "plt.show()"
   ]
  },
  {
   "cell_type": "code",
   "execution_count": null,
   "metadata": {},
   "outputs": [],
   "source": [
    "# Bar plot of absolut values of men vs women\n",
    "pop_df[[\"men\", \"women\"]].sum().div(1000000).plot(kind=\"bar\")\n",
    "plt.title(\"Total population in Spain\")\n",
    "plt.xticks(rotation=0)\n",
    "ax = plt.gca()\n",
    "ax.spines[\"top\"].set_visible(False)\n",
    "ax.spines[\"right\"].set_visible(False)\n",
    "plt.ylabel(\"Population (millions)\")\n",
    "plt.bar_label(ax.containers[0], fmt=\"%.1f\")\n",
    "plt.show()"
   ]
  },
  {
   "attachments": {},
   "cell_type": "markdown",
   "metadata": {},
   "source": [
    "# Mortality"
   ]
  },
  {
   "cell_type": "code",
   "execution_count": null,
   "metadata": {},
   "outputs": [],
   "source": [
    "pop_df[\"PROVINCIA\"].unique()"
   ]
  },
  {
   "cell_type": "code",
   "execution_count": null,
   "metadata": {},
   "outputs": [],
   "source": [
    "mortality_raw = pd.read_csv(\"./data/mortalidad.csv\", sep=\";\")"
   ]
  },
  {
   "cell_type": "code",
   "execution_count": null,
   "metadata": {},
   "outputs": [],
   "source": [
    "mortality_raw.head()"
   ]
  },
  {
   "cell_type": "code",
   "execution_count": null,
   "metadata": {},
   "outputs": [],
   "source": [
    "mortality_raw[\"Provincias\"].unique()"
   ]
  },
  {
   "cell_type": "code",
   "execution_count": null,
   "metadata": {},
   "outputs": [],
   "source": [
    "mortality_raw[\"Funciones\"].unique()"
   ]
  },
  {
   "cell_type": "code",
   "execution_count": null,
   "metadata": {},
   "outputs": [],
   "source": [
    "mortality_raw[\n",
    "    (mortality_raw[\"Funciones\"] == \"Esperanza de vida\")\n",
    "    & (mortality_raw[\"Periodo\"] == 2021)\n",
    "]"
   ]
  },
  {
   "cell_type": "code",
   "execution_count": null,
   "metadata": {},
   "outputs": [],
   "source": [
    "life_exp = mortality_raw[mortality_raw[\"Funciones\"] == \"Esperanza de vida\"].copy()"
   ]
  },
  {
   "cell_type": "code",
   "execution_count": null,
   "metadata": {},
   "outputs": [],
   "source": [
    "life_exp[\"Total\"] = life_exp[\"Total\"].str.replace(\",\", \".\").astype(float)"
   ]
  },
  {
   "cell_type": "code",
   "execution_count": null,
   "metadata": {},
   "outputs": [],
   "source": [
    "for edad in life_exp[\"Edad\"].unique():\n",
    "    _temp_mort = life_exp[\n",
    "        (life_exp[\"Edad\"] == edad)\n",
    "        & (life_exp[\"Periodo\"] == 2021)\n",
    "        & (life_exp[\"Sexo\"] == \"Ambos sexos\")\n",
    "    ]\n",
    "    _temp_mort.set_index(\"Provincias\", inplace=True)\n",
    "    _temp_mort[\"Total\"].sort_values(ascending=False).plot(\n",
    "        kind=\"bar\", x=\"Provincias\", figsize=(10, 5)\n",
    "    )\n",
    "    plt.title(f\"Life expectancy at {edad} \")\n",
    "    plt.show()"
   ]
  },
  {
   "cell_type": "markdown",
   "metadata": {},
   "source": [
    "## Rebuild this in plotly with dropdown for age selection"
   ]
  },
  {
   "cell_type": "code",
   "execution_count": null,
   "metadata": {},
   "outputs": [],
   "source": [
    "mortality_raw[\n",
    "    (mortality_raw[\"Funciones\"] == \"Supervivientes\")\n",
    "    & (mortality_raw[\"Periodo\"] == 2021)\n",
    "]"
   ]
  },
  {
   "attachments": {},
   "cell_type": "markdown",
   "metadata": {},
   "source": [
    "## Nombres Más frecuentes\n"
   ]
  },
  {
   "cell_type": "code",
   "execution_count": null,
   "metadata": {},
   "outputs": [],
   "source": [
    "most_common_names_men = pd.read_excel(\n",
    "    \"./data/nombres_mas_frecuentes.xls\", sheet_name=\"ESPAÑA_100_hombres\", header=4\n",
    ")\n",
    "most_common_names_women = pd.read_excel(\n",
    "    \"./data/nombres_mas_frecuentes.xls\", sheet_name=\"ESPAÑA_100_mujeres\", header=4\n",
    ")"
   ]
  },
  {
   "cell_type": "code",
   "execution_count": null,
   "metadata": {},
   "outputs": [],
   "source": [
    "fig, ax = plt.subplots(1, 2, figsize=(20, 15))\n",
    "sns.barplot(\n",
    "    data=most_common_names_men,\n",
    "    x=\"FRECUENCIA\",\n",
    "    y=\"NOMBRE COMPLETO\",\n",
    "    ax=ax[0],\n",
    ")\n",
    "sns.barplot(\n",
    "    data=most_common_names_women,\n",
    "    x=\"FRECUENCIA\",\n",
    "    y=\"NOMBRE COMPLETO\",\n",
    "    ax=ax[1],\n",
    ")\n",
    "ax[0].tick_params(axis=\"y\", labelsize=8)\n",
    "ax[1].tick_params(axis=\"y\", labelsize=8)\n",
    "ax[0].set_title(\"Men\")\n",
    "ax[1].set_title(\"Women\")\n",
    "ax[0].set_ylabel(\"Name\")\n",
    "ax[1].set_ylabel(\"\")  # Remove y label from second subplot\n",
    "# common y label\n",
    "\n",
    "plt.suptitle(\"100 Most frequent names 01/01/2022\", y=0.92)\n",
    "plt.show()"
   ]
  },
  {
   "cell_type": "markdown",
   "metadata": {},
   "source": [
    "## Nombres por edad media"
   ]
  },
  {
   "cell_type": "code",
   "execution_count": null,
   "metadata": {},
   "outputs": [],
   "source": [
    "cols = [\"orden\", \"nombre\", \"frecuencia\", \"edad_media\"]\n",
    "names_age_men = pd.read_excel(\"./data/nombres_por_edad_media.xls\", header=6, names=cols)\n",
    "names_age_women = pd.read_excel(\n",
    "    \"./data/nombres_por_edad_media.xls\", header=6, names=cols, sheet_name=\"Mujeres\"\n",
    ")"
   ]
  },
  {
   "cell_type": "code",
   "execution_count": null,
   "metadata": {},
   "outputs": [],
   "source": [
    "names_age_men"
   ]
  },
  {
   "cell_type": "code",
   "execution_count": null,
   "metadata": {},
   "outputs": [],
   "source": [
    "top_100_men = names_age_men.head(100).sort_values(by=\"edad_media\")\n",
    "top_100_women = names_age_women.head(100).sort_values(by=\"edad_media\")"
   ]
  },
  {
   "cell_type": "code",
   "execution_count": null,
   "metadata": {},
   "outputs": [],
   "source": [
    "fig, ax = plt.subplots(1, figsize=(15, 15))\n",
    "sns.barplot(\n",
    "    data=top_100_men,\n",
    "    x=\"edad_media\",\n",
    "    y=\"nombre\",\n",
    ")\n",
    "# plot bar labels\n",
    "for i, v in enumerate(top_100_men[\"edad_media\"]):\n",
    "    ax.annotate(str(v), xy=(v, i), ha=\"left\", va=\"center\")\n",
    "\n",
    "# make fontsize smaller\n",
    "ax.tick_params(axis=\"y\", labelsize=8)\n",
    "\n",
    "plt.title(\"Average age for the 100 most frequent names\")\n",
    "plt.show()"
   ]
  },
  {
   "cell_type": "code",
   "execution_count": null,
   "metadata": {},
   "outputs": [],
   "source": [
    "fig, ax = plt.subplots(1, figsize=(15, 15))\n",
    "sns.barplot(\n",
    "    data=top_100_women,\n",
    "    x=\"edad_media\",\n",
    "    y=\"nombre\",\n",
    ")\n",
    "# plot bar labels\n",
    "for i, v in enumerate(top_100_women[\"edad_media\"]):\n",
    "    ax.annotate(str(v), xy=(v, i), ha=\"left\", va=\"center\")\n",
    "\n",
    "# make fontsize smaller\n",
    "ax.tick_params(axis=\"y\", labelsize=8)\n",
    "\n",
    "plt.title(\"Average age for the 100 most frequent names\")\n",
    "plt.show()"
   ]
  },
  {
   "cell_type": "code",
   "execution_count": null,
   "metadata": {},
   "outputs": [],
   "source": [
    "names_age_men[\"source\"] = \"men\"\n",
    "names_age_women[\"source\"] = \"women\"\n",
    "\n",
    "all_names = pd.concat((names_age_men, names_age_women))"
   ]
  },
  {
   "cell_type": "code",
   "execution_count": null,
   "metadata": {},
   "outputs": [],
   "source": [
    "all_names"
   ]
  },
  {
   "cell_type": "code",
   "execution_count": null,
   "metadata": {},
   "outputs": [],
   "source": [
    "all_names[\"age_group\"] = pd.cut(\n",
    "    all_names[\"edad_media\"],\n",
    "    [0, 5, 10, 15, 20, 25, 30, 35, 40, 45, 50, 55, 60, 65, 70, 75, 85, 90],\n",
    "    labels=[\n",
    "        \"0-5\",\n",
    "        \"5-10\",\n",
    "        \"10-15\",\n",
    "        \"15-20\",\n",
    "        \"20-25\",\n",
    "        \"25-30\",\n",
    "        \"30-35\",\n",
    "        \"35-40\",\n",
    "        \"40-45\",\n",
    "        \"45-50\",\n",
    "        \"50-55\",\n",
    "        \"55-60\",\n",
    "        \"60-65\",\n",
    "        \"65-70\",\n",
    "        \"70-75\",\n",
    "        \"75-85\",\n",
    "        \"85-90\",\n",
    "    ],\n",
    ")"
   ]
  },
  {
   "cell_type": "code",
   "execution_count": null,
   "metadata": {},
   "outputs": [],
   "source": [
    "# for each age group and sex get the top 3 names\n",
    "top_3_names = (\n",
    "    all_names.groupby([\"source\", \"age_group\"])\n",
    "    .apply(lambda x: x.nlargest(3, \"frecuencia\"))\n",
    "    .reset_index(drop=True)\n",
    ")"
   ]
  },
  {
   "cell_type": "code",
   "execution_count": null,
   "metadata": {},
   "outputs": [],
   "source": [
    "top_3_names[top_3_names[\"age_group\"] == \"75-85\"]"
   ]
  },
  {
   "cell_type": "markdown",
   "metadata": {},
   "source": [
    "## The lower part is wrong. This is not the top name per age group.\n",
    "Its the group with average and highest freq"
   ]
  },
  {
   "cell_type": "code",
   "execution_count": null,
   "metadata": {},
   "outputs": [],
   "source": [
    "for group in top_3_names[\"age_group\"].unique():\n",
    "    _temp = top_3_names[top_3_names[\"age_group\"] == group]\n",
    "    fig, ax = plt.subplots(1, figsize=(10, 10))\n",
    "    sns.barplot(\n",
    "        data=_temp,\n",
    "        x=\"frecuencia\",\n",
    "        y=\"nombre\",\n",
    "        hue=\"source\",\n",
    "        # palette=[\"#1f77b4\", \"#ff7f0e\"],\n",
    "    )\n",
    "    # plot bar labels\n",
    "    for i, v in enumerate(_temp[\"frecuencia\"]):\n",
    "        ax.annotate(str(v), xy=(v, i), ha=\"left\", va=\"center\")\n",
    "\n",
    "    plt.title(f\"Top 3 names for age group {group}\")\n",
    "    plt.show()"
   ]
  },
  {
   "cell_type": "code",
   "execution_count": null,
   "metadata": {},
   "outputs": [],
   "source": [
    "from wordcloud import WordCloud\n",
    "import matplotlib.pyplot as plt\n",
    "\n",
    "for group in top_3_names[\"age_group\"].unique():\n",
    "    _temp = top_3_names[top_3_names[\"age_group\"] == group]\n",
    "\n",
    "    # Prepare data for wordcloud: a dictionary where keys are names and values are frequencies\n",
    "    data = _temp.set_index(\"nombre\")[\"frecuencia\"].to_dict()\n",
    "\n",
    "    # Generate word cloud\n",
    "    wordcloud = WordCloud(width=1000, height=500).generate_from_frequencies(data)\n",
    "\n",
    "    plt.figure(figsize=(15, 8))\n",
    "    plt.imshow(wordcloud, interpolation=\"bilinear\")\n",
    "    plt.axis(\"off\")\n",
    "    plt.title(f\"Top 3 names for age group {group}\")\n",
    "    plt.show()"
   ]
  },
  {
   "cell_type": "code",
   "execution_count": null,
   "metadata": {},
   "outputs": [],
   "source": [
    "import matplotlib as mpl"
   ]
  }
 ],
 "metadata": {
  "kernelspec": {
   "display_name": "Python 3",
   "language": "python",
   "name": "python3"
  },
  "language_info": {
   "codemirror_mode": {
    "name": "ipython",
    "version": 3
   },
   "file_extension": ".py",
   "mimetype": "text/x-python",
   "name": "python",
   "nbconvert_exporter": "python",
   "pygments_lexer": "ipython3",
   "version": "3.9.13"
  },
  "orig_nbformat": 4
 },
 "nbformat": 4,
 "nbformat_minor": 2
}
